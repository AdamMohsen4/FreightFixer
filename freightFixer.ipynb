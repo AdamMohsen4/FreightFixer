{
  "nbformat": 4,
  "nbformat_minor": 0,
  "metadata": {
    "colab": {
      "provenance": [],
      "authorship_tag": "ABX9TyO2YFvMqO/WunKKgb1djV8A",
      "include_colab_link": true
    },
    "kernelspec": {
      "name": "python3",
      "display_name": "Python 3"
    },
    "language_info": {
      "name": "python"
    }
  },
  "cells": [
    {
      "cell_type": "markdown",
      "metadata": {
        "id": "view-in-github",
        "colab_type": "text"
      },
      "source": [
        "<a href=\"https://colab.research.google.com/github/AdamMohsen4/FreightFixer/blob/ml/freightFixer.ipynb\" target=\"_parent\"><img src=\"https://colab.research.google.com/assets/colab-badge.svg\" alt=\"Open In Colab\"/></a>"
      ]
    },
    {
      "cell_type": "code",
      "execution_count": null,
      "metadata": {
        "id": "f9dnPKCqLsPb"
      },
      "outputs": [],
      "source": [
        "# Necessary libraries\n",
        "import numpy as np\n",
        "import padas as pd\n",
        "from google.colab import files\n",
        "import torch"
      ]
    },
    {
      "cell_type": "code",
      "source": [
        "# Utilize gpu if available\n",
        "if torch.cuda.is_available():\n",
        "    device = torch.device(\"cuda\")\n",
        "else:\n",
        "    device = torch.device(\"cpu\")"
      ],
      "metadata": {
        "id": "iArqr86BOKDW"
      },
      "execution_count": null,
      "outputs": []
    },
    {
      "cell_type": "code",
      "source": [
        "\n",
        "uploaded = files.upload()\n",
        "\n",
        "# Assuming the uploaded file is named 'your_file.csv' or 'your_file.xlsx'\n",
        "filename = list(uploaded.keys())[0]\n",
        "\n",
        "# Load CSV file\n",
        "if filename.endswith('.csv'):\n",
        "    df = pd.read_csv(filename)\n",
        "    print(\"Loaded CSV file successfully!\")\n",
        "\n",
        "# Load Excel file\n",
        "elif filename.endswith('.xlsx') or filename.endswith('.xls'):\n",
        "    df = pd.read_excel(filename)\n",
        "    print(\"Loaded Excel file successfully!\")\n",
        "\n",
        "else:\n",
        "    raise ValueError(\"Unsupported file type. Please upload a CSV or Excel file.\")\n"
      ],
      "metadata": {
        "id": "xpAozZZEOq1E"
      },
      "execution_count": null,
      "outputs": []
    }
  ]
}